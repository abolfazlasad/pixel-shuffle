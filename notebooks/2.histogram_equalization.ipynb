{
 "cells": [
  {
   "cell_type": "code",
   "execution_count": null,
   "metadata": {},
   "outputs": [],
   "source": [
    "import numpy as np\n",
    "import matplotlib.pyplot as plt\n",
    "\n",
    "from PIL import Image\n",
    "from tqdm import trange, tqdm\n",
    "from IPython.display import clear_output"
   ]
  },
  {
   "cell_type": "code",
   "execution_count": null,
   "metadata": {},
   "outputs": [],
   "source": [
    "target_filename = \"woman.jpg\"\n",
    "source_filename = \"chameleon.jpg\"\n",
    "target_img = Image.open(\"../inputs/\" + target_filename)\n",
    "source_img = Image.open(\"../inputs/\" + source_filename)\n",
    "source_img = source_img.resize(target_img.size)"
   ]
  },
  {
   "cell_type": "code",
   "execution_count": null,
   "metadata": {},
   "outputs": [],
   "source": [
    "def plot_images(source_arr, result_arr, target_arr, iteration_number=None):\n",
    "    plt.figure(figsize=(15, 10))\n",
    "    plt.subplot(1, 3, 1)\n",
    "    plt.imshow(source_arr)\n",
    "    plt.axis(\"off\")\n",
    "\n",
    "    plt.subplot(1, 3, 2)\n",
    "    if iteration_number:\n",
    "        plt.title(\"iteration: %d\" % iteration_number)\n",
    "    plt.imshow(result_arr)\n",
    "    plt.axis(\"off\")\n",
    "\n",
    "    plt.subplot(1, 3, 3)\n",
    "    plt.imshow(target_arr)\n",
    "    plt.axis(\"off\")\n",
    "    plt.show()"
   ]
  },
  {
   "cell_type": "code",
   "execution_count": null,
   "metadata": {},
   "outputs": [],
   "source": [
    "def plot_hit_rate_and_mse(hit_rate_percent_list, mse_loss_list):\n",
    "    plt.figure(figsize=(12, 4))\n",
    "    plt.subplot(1, 2, 1)\n",
    "    plt.loglog(hit_rate_percent_list, label=\"Hit Rate\")\n",
    "    plt.loglog(np.ones_like(hit_rate_percent_list) * 0.1, label=\"0.01%\")\n",
    "    plt.xlabel(\"Iteration\")\n",
    "    plt.legend()\n",
    "\n",
    "    plt.subplot(1, 2, 2)\n",
    "    plt.plot(mse_loss_list, label=\"RMSE loss\")\n",
    "    plt.xlabel(\"Iteration\")\n",
    "    plt.legend()\n",
    "\n",
    "    plt.show()"
   ]
  },
  {
   "cell_type": "code",
   "execution_count": null,
   "metadata": {},
   "outputs": [],
   "source": [
    "def pixel_level_shuffle(source_arr, target_arr, permute_source=True, num_of_iter=1000, plot_after_iter=100, num_of_tries_in_iter=None, clear_before_plot=True):\n",
    "    if permute_source:\n",
    "        result_arr = np.random.permutation(source_arr.reshape(-1, 3)).reshape(*source_arr.shape)\n",
    "    else:\n",
    "        result_arr = np.array(source_arr)\n",
    "\n",
    "    # plot initial values\n",
    "    plot_images(source_arr, result_arr, target_arr, 0)\n",
    "\n",
    "    rows, cols, _ = target_arr.shape\n",
    "    if not num_of_tries_in_iter:\n",
    "        num_of_tries_in_iter = rows * cols\n",
    "\n",
    "    images = []\n",
    "    mse_loss_list = []\n",
    "    hit_rate_percent_list = []\n",
    "\n",
    "    pbar = trange(num_of_iter)\n",
    "    for iter in pbar:\n",
    "        hit = 0\n",
    "\n",
    "        selected_rows1 = np.random.randint(0, rows, num_of_tries_in_iter)\n",
    "        selected_cols1 = np.random.randint(0, cols, num_of_tries_in_iter)\n",
    "        selected_rows2 = np.random.randint(0, rows, num_of_tries_in_iter)\n",
    "        selected_cols2 = np.random.randint(0, cols, num_of_tries_in_iter)\n",
    "\n",
    "        for idx in range(selected_cols1.shape[0]):\n",
    "            s1 = result_arr[selected_rows1[idx], selected_cols1[idx]]\n",
    "            t1 = target_arr[selected_rows1[idx], selected_cols1[idx]]\n",
    "            s2 = result_arr[selected_rows2[idx], selected_cols2[idx]]\n",
    "            t2 = target_arr[selected_rows2[idx], selected_cols2[idx]]\n",
    "            if np.abs(s1 - t2).sum() + np.abs(s2 - t1).sum() < np.abs(s1 - t1).sum() + np.abs(s2 - t2).sum():\n",
    "                result_arr[selected_rows1[idx], selected_cols1[idx]] , result_arr[selected_rows2[idx], selected_cols2[idx]] = result_arr[selected_rows2[idx], selected_cols2[idx]], result_arr[selected_rows1[idx], selected_cols1[idx]]\n",
    "                hit += 1\n",
    "\n",
    "        hit_rate_percent_list.append(hit / num_of_tries_in_iter * 100)\n",
    "        mse_loss_list.append(np.mean((result_arr - target_arr) ** 2) ** 0.5)\n",
    "        pbar.set_description(\"Hit Rate %0.6f%%, loss: %0.4f\" % (hit_rate_percent_list[-1], mse_loss_list[-1]))\n",
    "\n",
    "        if (iter + 1) % plot_after_iter == 0:\n",
    "            if clear_before_plot:\n",
    "                clear_output()\n",
    "            images.append(result_arr)\n",
    "            plot_images(source_arr, result_arr, target_arr, len(mse_loss_list))\n",
    "            plot_hit_rate_and_mse(hit_rate_percent_list, mse_loss_list)\n",
    "        \n",
    "    return hit_rate_percent_list, mse_loss_list, images"
   ]
  },
  {
   "cell_type": "code",
   "execution_count": null,
   "metadata": {},
   "outputs": [],
   "source": [
    "target_arr = np.array(target_img.resize((target_img.size[0] // 10, target_img.size[1] // 10)))\n",
    "source_arr = np.array(source_img.resize((source_img.size[0] // 10, source_img.size[1] // 10)))\n",
    "hit_rate_percent_list, mse_loss_list, images = pixel_level_shuffle(\n",
    "    source_arr,\n",
    "    target_arr,\n",
    "    permute_source=False,\n",
    "    num_of_iter=1000,\n",
    "    plot_after_iter=100,\n",
    "    clear_before_plot=False)"
   ]
  },
  {
   "cell_type": "code",
   "execution_count": null,
   "metadata": {},
   "outputs": [],
   "source": [
    "target_arr = np.array(target_img.resize((target_img.size[0] // 10, target_img.size[1] // 10)))\n",
    "source_arr = np.array(source_img.resize((source_img.size[0] // 10, source_img.size[1] // 10)))\n",
    "hit_rate_percent_list, mse_loss_list, images = pixel_level_shuffle(\n",
    "    source_arr,\n",
    "    target_arr,\n",
    "    permute_source=True,\n",
    "    num_of_iter=1000,\n",
    "    plot_after_iter=100,\n",
    "    clear_before_plot=False)"
   ]
  },
  {
   "cell_type": "code",
   "execution_count": null,
   "metadata": {},
   "outputs": [],
   "source": [
    "target_arr = np.array(target_img)\n",
    "source_arr = np.array(source_img)\n",
    "hit_rate_percent_list, mse_loss_list, images = pixel_level_shuffle(\n",
    "    source_arr,\n",
    "    target_arr,\n",
    "    permute_source=False,\n",
    "    num_of_iter=1000,\n",
    "    plot_after_iter=100,\n",
    "    clear_before_plot=False)"
   ]
  },
  {
   "cell_type": "code",
   "execution_count": null,
   "metadata": {},
   "outputs": [],
   "source": [
    "target_arr = np.array(target_img)\n",
    "source_arr = np.array(source_img)\n",
    "hit_rate_percent_list, mse_loss_list, images = pixel_level_shuffle(\n",
    "    source_arr,\n",
    "    target_arr,\n",
    "    permute_source=True,\n",
    "    num_of_iter=1000,\n",
    "    plot_after_iter=100,\n",
    "    clear_before_plot=False)"
   ]
  }
 ],
 "metadata": {
  "kernelspec": {
   "display_name": "Python 3",
   "language": "python",
   "name": "python3"
  },
  "language_info": {
   "codemirror_mode": {
    "name": "ipython",
    "version": 3
   },
   "file_extension": ".py",
   "mimetype": "text/x-python",
   "name": "python",
   "nbconvert_exporter": "python",
   "pygments_lexer": "ipython3",
   "version": "3.10.0"
  }
 },
 "nbformat": 4,
 "nbformat_minor": 2
}
